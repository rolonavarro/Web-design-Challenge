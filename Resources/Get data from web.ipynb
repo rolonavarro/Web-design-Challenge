{
 "cells": [
  {
   "cell_type": "code",
   "execution_count": 1,
   "metadata": {},
   "outputs": [
    {
     "name": "stderr",
     "output_type": "stream",
     "text": [
      "/Users/rolandonavarro/opt/anaconda3/lib/python3.7/site-packages/pandas_datareader/compat/__init__.py:7: FutureWarning: pandas.util.testing is deprecated. Use the functions in the public API at pandas.testing instead.\n",
      "  from pandas.util.testing import assert_frame_equal\n"
     ]
    }
   ],
   "source": [
    "# Dependencies \n",
    "import datetime as dt\n",
    "import matplotlib.pyplot as plt\n",
    "from matplotlib import style\n",
    "import pandas as pd\n",
    "import pandas_datareader.data as web\n",
    "from sklearn import datasets\n",
    "from scipy.stats import linregress\n",
    "\n",
    "style.use('fivethirtyeight')"
   ]
  },
  {
   "cell_type": "code",
   "execution_count": 2,
   "metadata": {},
   "outputs": [],
   "source": [
    "# Pull different stocks\n",
    "\n",
    "start = \"2020-02-15\"\n",
    "end = \"2020-04-17\""
   ]
  },
  {
   "cell_type": "code",
   "execution_count": 3,
   "metadata": {},
   "outputs": [],
   "source": [
    "# Apple stock \n",
    "aapl_df = web.DataReader('AAPL','yahoo', start, end)\n",
    "aapl_df['Change'] = ((aapl_df['Close']-aapl_df['Open'])/aapl_df['Open']) * 100\n",
    "aapl_df['Volume'] = aapl_df['Volume']/1000000\n",
    "aapl_df.to_csv(\"../Data/apple.csv\")"
   ]
  },
  {
   "cell_type": "code",
   "execution_count": 4,
   "metadata": {},
   "outputs": [],
   "source": [
    "# S&P 500\n",
    "sp5_df = web.DataReader('^GSPC','yahoo', start, end)\n",
    "sp5_df['Change'] = ((sp5_df['Close']-sp5_df['Open'])/sp5_df['Open']) * 100\n",
    "sp5_df['Volume'] = sp5_df['Volume']/1000000\n",
    "sp5_df.to_csv(\"../Data/ap5.csv\")"
   ]
  },
  {
   "cell_type": "code",
   "execution_count": 5,
   "metadata": {},
   "outputs": [],
   "source": [
    "# Gold \n",
    "gold_df = web.DataReader('GOLD','yahoo', start, end)\n",
    "gold_df['Change'] = ((gold_df['Close']-gold_df['Open'])/gold_df['Open']) * 100\n",
    "gold_df['Volume'] = gold_df['Volume']/1000000\n",
    "gold_df.to_csv(\"../Data/gold.csv\")"
   ]
  },
  {
   "cell_type": "code",
   "execution_count": 6,
   "metadata": {},
   "outputs": [],
   "source": [
    "# Crude Oil (CL=F)\n",
    "oil_df = web.DataReader('CL=F','yahoo', start, end)\n",
    "oil_df['Change'] = ((oil_df['Close']-oil_df['Open'])/oil_df['Open']) * 100\n",
    "oil_df['Volume'] = oil_df['Volume']/1000000\n",
    "oil_df.to_csv(\"../Data/oil.csv\")"
   ]
  },
  {
   "cell_type": "code",
   "execution_count": 7,
   "metadata": {},
   "outputs": [],
   "source": [
    "# Utilities companies are not hit as hard compaerd to other industries. For example Consolidated Edison\n",
    "# is one of the oldes companies in the stock market and as you can see they are not affected as much\n",
    "# by the virus\n",
    "\n",
    "ed_df = web.DataReader('ED','yahoo', start, end)\n",
    "ed_df['Change'] = ((ed_df['Close']-ed_df['Open'])/ed_df['Open']) * 100\n",
    "ed_df['Volume'] = ed_df['Volume']/1000000\n",
    "ed_df.to_csv(\"../Data/ed.csv\")"
   ]
  }
 ],
 "metadata": {
  "kernelspec": {
   "display_name": "Python 3",
   "language": "python",
   "name": "python3"
  },
  "language_info": {
   "codemirror_mode": {
    "name": "ipython",
    "version": 3
   },
   "file_extension": ".py",
   "mimetype": "text/x-python",
   "name": "python",
   "nbconvert_exporter": "python",
   "pygments_lexer": "ipython3",
   "version": "3.7.6"
  },
  "toc": {
   "base_numbering": 1,
   "nav_menu": {},
   "number_sections": true,
   "sideBar": true,
   "skip_h1_title": false,
   "title_cell": "Table of Contents",
   "title_sidebar": "Contents",
   "toc_cell": false,
   "toc_position": {},
   "toc_section_display": true,
   "toc_window_display": false
  },
  "varInspector": {
   "cols": {
    "lenName": 16,
    "lenType": 16,
    "lenVar": 40
   },
   "kernels_config": {
    "python": {
     "delete_cmd_postfix": "",
     "delete_cmd_prefix": "del ",
     "library": "var_list.py",
     "varRefreshCmd": "print(var_dic_list())"
    },
    "r": {
     "delete_cmd_postfix": ") ",
     "delete_cmd_prefix": "rm(",
     "library": "var_list.r",
     "varRefreshCmd": "cat(var_dic_list()) "
    }
   },
   "types_to_exclude": [
    "module",
    "function",
    "builtin_function_or_method",
    "instance",
    "_Feature"
   ],
   "window_display": false
  }
 },
 "nbformat": 4,
 "nbformat_minor": 4
}
