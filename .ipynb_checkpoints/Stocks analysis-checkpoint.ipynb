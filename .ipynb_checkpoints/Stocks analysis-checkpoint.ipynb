{
 "cells": [
  {
   "cell_type": "code",
   "execution_count": null,
   "metadata": {},
   "outputs": [],
   "source": [
    "### Stock Analysis "
   ]
  },
  {
   "cell_type": "code",
   "execution_count": 8,
   "metadata": {},
   "outputs": [],
   "source": [
    "# Dependencies \n",
    "import datetime as dt\n",
    "import matplotlib.pyplot as plt\n",
    "from matplotlib import style\n",
    "import pandas as pd\n",
    "import pandas_datareader.data as web\n",
    "from sklearn import datasets\n",
    "from scipy.stats import linregress\n",
    "\n",
    "style.use('fivethirtyeight')"
   ]
  },
  {
   "cell_type": "code",
   "execution_count": 13,
   "metadata": {},
   "outputs": [],
   "source": [
    "# Pull different stocks\n",
    "\n",
    "start = \"2020-02-15\"\n",
    "end = \"2020-04-17\""
   ]
  },
  {
   "cell_type": "code",
   "execution_count": 14,
   "metadata": {
    "scrolled": true
   },
   "outputs": [
    {
     "data": {
      "text/html": [
       "<div>\n",
       "<style scoped>\n",
       "    .dataframe tbody tr th:only-of-type {\n",
       "        vertical-align: middle;\n",
       "    }\n",
       "\n",
       "    .dataframe tbody tr th {\n",
       "        vertical-align: top;\n",
       "    }\n",
       "\n",
       "    .dataframe thead th {\n",
       "        text-align: right;\n",
       "    }\n",
       "</style>\n",
       "<table border=\"1\" class=\"dataframe\">\n",
       "  <thead>\n",
       "    <tr style=\"text-align: right;\">\n",
       "      <th></th>\n",
       "      <th>High</th>\n",
       "      <th>Low</th>\n",
       "      <th>Open</th>\n",
       "      <th>Close</th>\n",
       "      <th>Volume</th>\n",
       "      <th>Adj Close</th>\n",
       "      <th>Change</th>\n",
       "    </tr>\n",
       "    <tr>\n",
       "      <th>Date</th>\n",
       "      <th></th>\n",
       "      <th></th>\n",
       "      <th></th>\n",
       "      <th></th>\n",
       "      <th></th>\n",
       "      <th></th>\n",
       "      <th></th>\n",
       "    </tr>\n",
       "  </thead>\n",
       "  <tbody>\n",
       "    <tr>\n",
       "      <th>2010-02-16</th>\n",
       "      <td>29.098572</td>\n",
       "      <td>28.788572</td>\n",
       "      <td>28.848572</td>\n",
       "      <td>29.057142</td>\n",
       "      <td>135.9344</td>\n",
       "      <td>25.222784</td>\n",
       "      <td>0.722984</td>\n",
       "    </tr>\n",
       "    <tr>\n",
       "      <th>2010-02-17</th>\n",
       "      <td>29.187143</td>\n",
       "      <td>28.694286</td>\n",
       "      <td>29.170000</td>\n",
       "      <td>28.935715</td>\n",
       "      <td>109.0992</td>\n",
       "      <td>25.117380</td>\n",
       "      <td>-0.803172</td>\n",
       "    </tr>\n",
       "    <tr>\n",
       "      <th>2010-02-18</th>\n",
       "      <td>29.127142</td>\n",
       "      <td>28.702858</td>\n",
       "      <td>28.804285</td>\n",
       "      <td>28.990000</td>\n",
       "      <td>105.7063</td>\n",
       "      <td>25.164499</td>\n",
       "      <td>0.644747</td>\n",
       "    </tr>\n",
       "    <tr>\n",
       "      <th>2010-02-19</th>\n",
       "      <td>29.028572</td>\n",
       "      <td>28.730000</td>\n",
       "      <td>28.837143</td>\n",
       "      <td>28.809999</td>\n",
       "      <td>103.8674</td>\n",
       "      <td>25.008259</td>\n",
       "      <td>-0.094127</td>\n",
       "    </tr>\n",
       "    <tr>\n",
       "      <th>2010-02-22</th>\n",
       "      <td>28.928572</td>\n",
       "      <td>28.455715</td>\n",
       "      <td>28.905714</td>\n",
       "      <td>28.631428</td>\n",
       "      <td>97.6409</td>\n",
       "      <td>24.853251</td>\n",
       "      <td>-0.948900</td>\n",
       "    </tr>\n",
       "  </tbody>\n",
       "</table>\n",
       "</div>"
      ],
      "text/plain": [
       "                 High        Low       Open      Close    Volume  Adj Close  \\\n",
       "Date                                                                          \n",
       "2010-02-16  29.098572  28.788572  28.848572  29.057142  135.9344  25.222784   \n",
       "2010-02-17  29.187143  28.694286  29.170000  28.935715  109.0992  25.117380   \n",
       "2010-02-18  29.127142  28.702858  28.804285  28.990000  105.7063  25.164499   \n",
       "2010-02-19  29.028572  28.730000  28.837143  28.809999  103.8674  25.008259   \n",
       "2010-02-22  28.928572  28.455715  28.905714  28.631428   97.6409  24.853251   \n",
       "\n",
       "              Change  \n",
       "Date                  \n",
       "2010-02-16  0.722984  \n",
       "2010-02-17 -0.803172  \n",
       "2010-02-18  0.644747  \n",
       "2010-02-19 -0.094127  \n",
       "2010-02-22 -0.948900  "
      ]
     },
     "execution_count": 14,
     "metadata": {},
     "output_type": "execute_result"
    }
   ],
   "source": [
    "# Apple stock \n",
    "aapl_df = web.DataReader('AAPL','yahoo', start, end)\n",
    "aapl_df['Change'] = ((aapl_df['Close']-aapl_df['Open'])/aapl_df['Open']) * 100\n",
    "aapl_df['Volume'] = aapl_df['Volume']/1000000\n",
    "aapl_df.head()"
   ]
  },
  {
   "cell_type": "code",
   "execution_count": null,
   "metadata": {},
   "outputs": [],
   "source": [
    "# aapl_df['Volume'] = aapl_df['Volume']*1000000\n",
    "aapl_df"
   ]
  },
  {
   "cell_type": "code",
   "execution_count": null,
   "metadata": {},
   "outputs": [],
   "source": [
    "# S&P 500\n",
    "sp5_df = web.DataReader('^GSPC','yahoo', start, end)\n",
    "sp5_df['Change'] = ((sp5_df['Close']-sp5_df['Open'])/sp5_df['Open']) * 100\n",
    "sp5_df.head()"
   ]
  },
  {
   "cell_type": "code",
   "execution_count": null,
   "metadata": {
    "scrolled": true
   },
   "outputs": [],
   "source": [
    "# Gold \n",
    "gold_df = web.DataReader('GOLD','yahoo', start, end)\n",
    "sp5_df['Change'] = ((sp5_df['Close']-sp5_df['Open'])/sp5_df['Open']) * 100\n",
    "gold_df.head()"
   ]
  },
  {
   "cell_type": "code",
   "execution_count": null,
   "metadata": {},
   "outputs": [],
   "source": [
    "# Crude Oil (CL=F)\n",
    "oil_df = web.DataReader('CL=F','yahoo', start, end)\n",
    "oil_df['Change'] = ((oil_df['Close']-oil_df['Open'])/oil_df['Open']) * 100\n",
    "oil_df.head()"
   ]
  },
  {
   "cell_type": "code",
   "execution_count": null,
   "metadata": {},
   "outputs": [],
   "source": [
    "# Utilities companies are not hit as hard compaerd to other industries. For example Consolidated Edison\n",
    "# is one of the oldes companies in the stock market and as you can see they are not affected as much\n",
    "# by the virus\n",
    "\n",
    "ed_df = web.DataReader('ED','yahoo', start, end)\n",
    "ed_df['Change'] = ((ed_df['Close']-ed_df['Open'])/ed_df['Open']) * 100\n",
    "ed_df.head()"
   ]
  },
  {
   "cell_type": "code",
   "execution_count": 15,
   "metadata": {
    "scrolled": true
   },
   "outputs": [],
   "source": [
    "# Drop index to plot Volume vs Price change\n",
    "d_index = aapl_df.reset_index()\n",
    "# aapl_df[['Volume','Change']]\n",
    "aapl_plot = d_index[['Volume','Change']]\n"
   ]
  },
  {
   "cell_type": "code",
   "execution_count": 23,
   "metadata": {},
   "outputs": [
    {
     "data": {
      "text/html": [
       "<div>\n",
       "<style scoped>\n",
       "    .dataframe tbody tr th:only-of-type {\n",
       "        vertical-align: middle;\n",
       "    }\n",
       "\n",
       "    .dataframe tbody tr th {\n",
       "        vertical-align: top;\n",
       "    }\n",
       "\n",
       "    .dataframe thead th {\n",
       "        text-align: right;\n",
       "    }\n",
       "</style>\n",
       "<table border=\"1\" class=\"dataframe\">\n",
       "  <thead>\n",
       "    <tr style=\"text-align: right;\">\n",
       "      <th></th>\n",
       "      <th>Volume</th>\n",
       "    </tr>\n",
       "    <tr>\n",
       "      <th>Date</th>\n",
       "      <th></th>\n",
       "    </tr>\n",
       "  </thead>\n",
       "  <tbody>\n",
       "    <tr>\n",
       "      <th>2010-02-16</th>\n",
       "      <td>135.9344</td>\n",
       "    </tr>\n",
       "    <tr>\n",
       "      <th>2010-02-17</th>\n",
       "      <td>109.0992</td>\n",
       "    </tr>\n",
       "    <tr>\n",
       "      <th>2010-02-18</th>\n",
       "      <td>105.7063</td>\n",
       "    </tr>\n",
       "    <tr>\n",
       "      <th>2010-02-19</th>\n",
       "      <td>103.8674</td>\n",
       "    </tr>\n",
       "    <tr>\n",
       "      <th>2010-02-22</th>\n",
       "      <td>97.6409</td>\n",
       "    </tr>\n",
       "    <tr>\n",
       "      <th>...</th>\n",
       "      <td>...</td>\n",
       "    </tr>\n",
       "    <tr>\n",
       "      <th>2020-04-13</th>\n",
       "      <td>32.7557</td>\n",
       "    </tr>\n",
       "    <tr>\n",
       "      <th>2020-04-14</th>\n",
       "      <td>48.7487</td>\n",
       "    </tr>\n",
       "    <tr>\n",
       "      <th>2020-04-15</th>\n",
       "      <td>32.7886</td>\n",
       "    </tr>\n",
       "    <tr>\n",
       "      <th>2020-04-16</th>\n",
       "      <td>38.8458</td>\n",
       "    </tr>\n",
       "    <tr>\n",
       "      <th>2020-04-17</th>\n",
       "      <td>53.7566</td>\n",
       "    </tr>\n",
       "  </tbody>\n",
       "</table>\n",
       "<p>2561 rows × 1 columns</p>\n",
       "</div>"
      ],
      "text/plain": [
       "              Volume\n",
       "Date                \n",
       "2010-02-16  135.9344\n",
       "2010-02-17  109.0992\n",
       "2010-02-18  105.7063\n",
       "2010-02-19  103.8674\n",
       "2010-02-22   97.6409\n",
       "...              ...\n",
       "2020-04-13   32.7557\n",
       "2020-04-14   48.7487\n",
       "2020-04-15   32.7886\n",
       "2020-04-16   38.8458\n",
       "2020-04-17   53.7566\n",
       "\n",
       "[2561 rows x 1 columns]"
      ]
     },
     "execution_count": 23,
     "metadata": {},
     "output_type": "execute_result"
    }
   ],
   "source": [
    "# Apple volume Graph\n",
    "avol_df = pd.DataFrame(aapl_df['Volume'])\n",
    "avol_df.plot()"
   ]
  },
  {
   "cell_type": "code",
   "execution_count": 24,
   "metadata": {},
   "outputs": [
    {
     "data": {
      "text/plain": [
       "<matplotlib.axes._subplots.AxesSubplot at 0x1a17ea5e50>"
      ]
     },
     "execution_count": 24,
     "metadata": {},
     "output_type": "execute_result"
    },
    {
     "data": {
      "image/png": "[encoded data removed]",
      "text/plain": [
       "<Figure size 432x288 with 1 Axes>"
      ]
     },
     "metadata": {},
     "output_type": "display_data"
    }
   ],
   "source": [
    "# Apple price change \n",
    "apch_df = pd.DataFrame(aapl_df['Change'])\n",
    "apch_df.plot()"
   ]
  },
  {
   "cell_type": "code",
   "execution_count": null,
   "metadata": {},
   "outputs": [],
   "source": [
    "# S&P 500 Volume Graph\n",
    "sp5_df = pd.DataFrame(sp5_df['Volume'])\n",
    "sp5_df.plot()"
   ]
  },
  {
   "cell_type": "code",
   "execution_count": null,
   "metadata": {},
   "outputs": [],
   "source": [
    "# S&P 500 Price Change Graph\n",
    "sp5_df = pd.DataFrame(sp5_df['Change'])\n",
    "sp5_df.plot()"
   ]
  },
  {
   "cell_type": "code",
   "execution_count": null,
   "metadata": {},
   "outputs": [],
   "source": [
    "# Oil Volume Graph\n",
    "oil_df = pd.DataFrame(oil_df['Volume'])\n",
    "oil_df.plot()"
   ]
  },
  {
   "cell_type": "code",
   "execution_count": null,
   "metadata": {},
   "outputs": [],
   "source": [
    "# Oil Price Change Graph\n",
    "oil_df = pd.DataFrame(oil_df['Change'])\n",
    "oil_df.plot()"
   ]
  },
  {
   "cell_type": "code",
   "execution_count": null,
   "metadata": {},
   "outputs": [],
   "source": [
    "# Consolidated Edison Graph\n",
    "ed_df = pd.DataFrame(ed_df['Volume'])\n",
    "ed_df.plot()"
   ]
  },
  {
   "cell_type": "code",
   "execution_count": null,
   "metadata": {},
   "outputs": [],
   "source": [
    "# Consolidated Edison Graph\n",
    "ed_df = pd.DataFrame(ed_df['Volume'])\n",
    "ed_df.plot()"
   ]
  },
  {
   "cell_type": "code",
   "execution_count": 16,
   "metadata": {},
   "outputs": [
    {
     "data": {
      "text/plain": [
       "470.2495"
      ]
     },
     "execution_count": 16,
     "metadata": {},
     "output_type": "execute_result"
    }
   ],
   "source": [
    "# Drop index to plot Volume vs Price change\n",
    "d_index = aapl_df.reset_index()\n",
    "# aapl_df[['Volume','Change']]\n",
    "aapl_plot = d_index[['Volume','Change']]"
   ]
  },
  {
   "cell_type": "code",
   "execution_count": 17,
   "metadata": {},
   "outputs": [
    {
     "name": "stdout",
     "output_type": "stream",
     "text": [
      "The r-squared is: -0.08087637201115169\n",
      "-0.0018754553943445365 0.0004569039495468015\n"
     ]
    },
    {
     "data": {
      "image/png": "[encoded data removed]",
      "text/plain": [
       "<Figure size 432x288 with 1 Axes>"
      ]
     },
     "metadata": {},
     "output_type": "display_data"
    }
   ],
   "source": [
    "# Volume vs Change in price of apple stock\n",
    "x_values = aapl_plot['Volume']\n",
    "y_values = aapl_plot['Change']\n",
    "\n",
    "plt.scatter(x_values,y_values, label='skitscat', color='k', s=25, marker=\"o\")\n",
    "\n",
    "(slope, intercept, rvalue, pvalue, stderr) = linregress(x_values, y_values)\n",
    "regress_values = x_values * slope + intercept\n",
    "line_eq = \"y = \" + str(round(slope,2)) + \"x + \" + str(round(intercept,2))\n",
    "plt.plot(x_values,regress_values,\"r-\")\n",
    "plt.annotate(line_eq,(6,10),fontsize=15,color=\"red\")\n",
    "plt.title('Volume vs Change of price')\n",
    "plt.xlabel('Volume in Millions')\n",
    "plt.ylabel('Change')\n",
    "print(f\"The r-squared is: {rvalue}\")\n",
    "print(slope, stderr)\n",
    "plt.show()"
   ]
  },
  {
   "cell_type": "code",
   "execution_count": 21,
   "metadata": {
    "scrolled": true
   },
   "outputs": [
    {
     "data": {
      "text/html": [
       "<div>\n",
       "<style scoped>\n",
       "    .dataframe tbody tr th:only-of-type {\n",
       "        vertical-align: middle;\n",
       "    }\n",
       "\n",
       "    .dataframe tbody tr th {\n",
       "        vertical-align: top;\n",
       "    }\n",
       "\n",
       "    .dataframe thead th {\n",
       "        text-align: right;\n",
       "    }\n",
       "</style>\n",
       "<table border=\"1\" class=\"dataframe\">\n",
       "  <thead>\n",
       "    <tr style=\"text-align: right;\">\n",
       "      <th></th>\n",
       "      <th>Volume</th>\n",
       "    </tr>\n",
       "    <tr>\n",
       "      <th>Date</th>\n",
       "      <th></th>\n",
       "    </tr>\n",
       "  </thead>\n",
       "  <tbody>\n",
       "    <tr>\n",
       "      <th>2010-02-16</th>\n",
       "      <td>135.9344</td>\n",
       "    </tr>\n",
       "    <tr>\n",
       "      <th>2010-02-17</th>\n",
       "      <td>109.0992</td>\n",
       "    </tr>\n",
       "    <tr>\n",
       "      <th>2010-02-18</th>\n",
       "      <td>105.7063</td>\n",
       "    </tr>\n",
       "    <tr>\n",
       "      <th>2010-02-19</th>\n",
       "      <td>103.8674</td>\n",
       "    </tr>\n",
       "    <tr>\n",
       "      <th>2010-02-22</th>\n",
       "      <td>97.6409</td>\n",
       "    </tr>\n",
       "    <tr>\n",
       "      <th>...</th>\n",
       "      <td>...</td>\n",
       "    </tr>\n",
       "    <tr>\n",
       "      <th>2020-04-13</th>\n",
       "      <td>32.7557</td>\n",
       "    </tr>\n",
       "    <tr>\n",
       "      <th>2020-04-14</th>\n",
       "      <td>48.7487</td>\n",
       "    </tr>\n",
       "    <tr>\n",
       "      <th>2020-04-15</th>\n",
       "      <td>32.7886</td>\n",
       "    </tr>\n",
       "    <tr>\n",
       "      <th>2020-04-16</th>\n",
       "      <td>38.8458</td>\n",
       "    </tr>\n",
       "    <tr>\n",
       "      <th>2020-04-17</th>\n",
       "      <td>53.7566</td>\n",
       "    </tr>\n",
       "  </tbody>\n",
       "</table>\n",
       "<p>2561 rows × 1 columns</p>\n",
       "</div>"
      ],
      "text/plain": [
       "              Volume\n",
       "Date                \n",
       "2010-02-16  135.9344\n",
       "2010-02-17  109.0992\n",
       "2010-02-18  105.7063\n",
       "2010-02-19  103.8674\n",
       "2010-02-22   97.6409\n",
       "...              ...\n",
       "2020-04-13   32.7557\n",
       "2020-04-14   48.7487\n",
       "2020-04-15   32.7886\n",
       "2020-04-16   38.8458\n",
       "2020-04-17   53.7566\n",
       "\n",
       "[2561 rows x 1 columns]"
      ]
     },
     "execution_count": 21,
     "metadata": {},
     "output_type": "execute_result"
    }
   ],
   "source": [
    "vol_df = pd.DataFrame(aapl_df['Volume'])\n"
   ]
  },
  {
   "cell_type": "code",
   "execution_count": 19,
   "metadata": {
    "scrolled": true
   },
   "outputs": [
    {
     "data": {
      "text/plain": [
       "<matplotlib.axes._subplots.AxesSubplot at 0x1a1802e890>"
      ]
     },
     "execution_count": 19,
     "metadata": {},
     "output_type": "execute_result"
    },
    {
     "data": {
      "image/png": "[encoded data removed]",
      "text/plain": [
       "<Figure size 432x288 with 1 Axes>"
      ]
     },
     "metadata": {},
     "output_type": "display_data"
    }
   ],
   "source": []
  },
  {
   "cell_type": "code",
   "execution_count": null,
   "metadata": {},
   "outputs": [],
   "source": [
    "# Graph S&P, AAPL, GOLD in one graph to see how they change over time with the virus"
   ]
  }
 ],
 "metadata": {
  "kernelspec": {
   "display_name": "Python 3",
   "language": "python",
   "name": "python3"
  },
  "language_info": {
   "codemirror_mode": {
    "name": "ipython",
    "version": 3
   },
   "file_extension": ".py",
   "mimetype": "text/x-python",
   "name": "python",
   "nbconvert_exporter": "python",
   "pygments_lexer": "ipython3",
   "version": "3.7.6"
  },
  "toc": {
   "base_numbering": 1,
   "nav_menu": {},
   "number_sections": true,
   "sideBar": true,
   "skip_h1_title": false,
   "title_cell": "Table of Contents",
   "title_sidebar": "Contents",
   "toc_cell": false,
   "toc_position": {},
   "toc_section_display": true,
   "toc_window_display": false
  },
  "varInspector": {
   "cols": {
    "lenName": 16,
    "lenType": 16,
    "lenVar": 40
   },
   "kernels_config": {
    "python": {
     "delete_cmd_postfix": "",
     "delete_cmd_prefix": "del ",
     "library": "var_list.py",
     "varRefreshCmd": "print(var_dic_list())"
    },
    "r": {
     "delete_cmd_postfix": ") ",
     "delete_cmd_prefix": "rm(",
     "library": "var_list.r",
     "varRefreshCmd": "cat(var_dic_list()) "
    }
   },
   "types_to_exclude": [
    "module",
    "function",
    "builtin_function_or_method",
    "instance",
    "_Feature"
   ],
   "window_display": false
  }
 },
 "nbformat": 4,
 "nbformat_minor": 4
}
